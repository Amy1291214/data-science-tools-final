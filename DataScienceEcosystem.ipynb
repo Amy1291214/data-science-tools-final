{
 "cells": [
  {
   "cell_type": "markdown",
   "id": "b6e2a613-1b77-420f-a889-43d9b34a1dbf",
   "metadata": {},
   "source": [
    "# Data Science Tools and Ecosystem\n",
    "(1-notebook.png) (2-title.png)"
   ]
  },
  {
   "cell_type": "markdown",
   "id": "3eb7f6e9-974a-4444-9027-29502dff10e5",
   "metadata": {},
   "source": [
    "In this notebook, Data Science Tools and Ecosystem are summarized. \n",
    "(3-intro.png)"
   ]
  },
  {
   "cell_type": "markdown",
   "id": "ce618684-4a1f-416f-ad61-e8497ef09caa",
   "metadata": {},
   "source": [
    "Some of the popular languages that Data Scientists use are:\n",
    "* python\n",
    "* java\n",
    "* c++\n",
    "\n",
    "(4-dslanguages.png)"
   ]
  },
  {
   "cell_type": "markdown",
   "id": "db823a01-252f-4bcc-897b-0b086bec420c",
   "metadata": {},
   "source": [
    "Some of the commonly used libraries used by Data Scientists include:\n",
    "1. R\n",
    "2. Anaconda\n",
    "3. TencorFlow\n",
    "\n",
    "(5-dslibraries.png)"
   ]
  },
  {
   "cell_type": "markdown",
   "id": "cbc69ef7-9f13-44d4-82de-3900c90e00b7",
   "metadata": {},
   "source": [
    "|Data Science Tools|\n",
    "|------------------|\n",
    "|GCP Collab|\n",
    "|IBM Watson|\n",
    "|Azure ML|\n",
    "\n",
    "(6-dstools.png)"
   ]
  },
  {
   "cell_type": "markdown",
   "id": "01628503-de60-41ea-ae17-913f67b8f52b",
   "metadata": {},
   "source": [
    "### Below are a few examples of evaluating arithmetic expressions in Python\n",
    "\n",
    "(7-introarithmetic.png)"
   ]
  },
  {
   "cell_type": "markdown",
   "id": "7ce1b072-907c-492d-8de0-263ed7ecdc4f",
   "metadata": {},
   "source": [
    "This a simple arithmetic expression to mutiply then add integers\n",
    "ex, ( 3 * 4 ) + 5\n",
    "\n",
    "(8-multiplyandaddintegers.png)"
   ]
  },
  {
   "cell_type": "code",
   "execution_count": 1,
   "id": "5deff397-e3ca-4e3f-95d5-2b35ff95b4da",
   "metadata": {},
   "outputs": [
    {
     "name": "stdout",
     "output_type": "stream",
     "text": [
      "17\n"
     ]
    }
   ],
   "source": [
    "a= ( 3 * 4 ) + 5\n",
    "print(a)"
   ]
  },
  {
   "cell_type": "markdown",
   "id": "849268df-8de9-4e4b-a84a-fbe8eae2981b",
   "metadata": {},
   "source": [
    "This will convert 200 minutes to hours by diving by 60\n",
    "(9-hourstominutes.png)"
   ]
  },
  {
   "cell_type": "code",
   "execution_count": 2,
   "id": "aec8a099-abcd-411d-8cb2-87488d542add",
   "metadata": {},
   "outputs": [
    {
     "name": "stdout",
     "output_type": "stream",
     "text": [
      "3.3333333333333335\n"
     ]
    }
   ],
   "source": [
    "b = 200 / 60\n",
    "print(b)"
   ]
  },
  {
   "cell_type": "markdown",
   "id": "685097ff-2bdf-4988-8298-e844f2efd12d",
   "metadata": {},
   "source": [
    "# Objectives:\n",
    "* List popular languages for Data Science\n",
    "* List popular libraries for Data Science\n",
    "* List popular platform for Data Science\n",
    "\n",
    "(10-objectives.png)"
   ]
  },
  {
   "cell_type": "markdown",
   "id": "5623b65e-47c5-489b-a7b0-d4a71a598c79",
   "metadata": {},
   "source": [
    "## Author\n",
    "Amy\n",
    "\n",
    "(11-authordetails.png)"
   ]
  },
  {
   "cell_type": "code",
   "execution_count": null,
   "id": "d4a41900-9535-4d27-b983-37826f24aec6",
   "metadata": {},
   "outputs": [],
   "source": []
  }
 ],
 "metadata": {
  "kernelspec": {
   "display_name": "Python 3 (ipykernel)",
   "language": "python",
   "name": "python3"
  },
  "language_info": {
   "codemirror_mode": {
    "name": "ipython",
    "version": 3
   },
   "file_extension": ".py",
   "mimetype": "text/x-python",
   "name": "python",
   "nbconvert_exporter": "python",
   "pygments_lexer": "ipython3",
   "version": "3.12.8"
  }
 },
 "nbformat": 4,
 "nbformat_minor": 5
}
